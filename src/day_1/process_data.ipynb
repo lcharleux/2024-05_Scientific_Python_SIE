{
 "cells": [
  {
   "cell_type": "code",
   "execution_count": null,
   "id": "f090be3e-ce96-4bf6-87d5-48709a271d44",
   "metadata": {
    "tags": []
   },
   "outputs": [],
   "source": [
    "%matplotlib widget\n",
    "import matplotlib.pyplot as plt\n",
    "import numpy as np\n",
    "import pandas as pd\n",
    "from scipy import optimize\n",
    "from my_functions import myfunc"
   ]
  },
  {
   "cell_type": "markdown",
   "id": "7b5ca367-95c6-4bfa-8437-6e47de37561b",
   "metadata": {},
   "source": [
    "# Step 1: load the data"
   ]
  },
  {
   "cell_type": "code",
   "execution_count": null,
   "id": "ae260cd1-76d0-4a90-a589-ea2601df50b9",
   "metadata": {
    "tags": []
   },
   "outputs": [],
   "source": [
    "data = pd.read_csv(\"data.csv\", sep=\",\", index_col=0)\n",
    "data.head(2)"
   ]
  },
  {
   "cell_type": "code",
   "execution_count": null,
   "id": "655e2d44-de13-474e-be7c-4bbfe6fb787f",
   "metadata": {
    "tags": []
   },
   "outputs": [],
   "source": [
    "data.columns"
   ]
  },
  {
   "cell_type": "code",
   "execution_count": null,
   "id": "d9837420-9cb6-4dbc-a190-808cc5bda280",
   "metadata": {
    "tags": []
   },
   "outputs": [],
   "source": [
    "params, cov = optimize.curve_fit(myfunc, data.x, data.y)"
   ]
  },
  {
   "cell_type": "code",
   "execution_count": null,
   "id": "5769c480-f1c7-4b10-9b86-8b4fb7903c14",
   "metadata": {
    "tags": []
   },
   "outputs": [],
   "source": [
    "plt.figure()\n",
    "plt.scatter(data.x, data.y, color=\"r\", label=\"data\")\n",
    "plt.plot(data.x, myfunc(data.x, *params), label=\"fit\")\n",
    "plt.legend(loc=\"best\")\n",
    "plt.grid()\n",
    "plt.show()"
   ]
  },
  {
   "cell_type": "markdown",
   "id": "f5ee699e-7c9e-4cf1-97a1-d53f5368040c",
   "metadata": {},
   "source": [
    "## Various examples"
   ]
  },
  {
   "cell_type": "code",
   "execution_count": null,
   "id": "f865ef6b-7704-424b-820d-02cc34003b01",
   "metadata": {
    "tags": []
   },
   "outputs": [],
   "source": [
    "def f(u, v=3.0, w=5.0):\n",
    "    print(f\"u={u}, v={v}, w={w}\")"
   ]
  },
  {
   "cell_type": "code",
   "execution_count": null,
   "id": "bcab6c2e-0ef6-4646-8450-2b76f38587bb",
   "metadata": {
    "tags": []
   },
   "outputs": [],
   "source": [
    "f(1, 2, 3)"
   ]
  },
  {
   "cell_type": "code",
   "execution_count": null,
   "id": "c18913e6-3cba-4ecd-bd8a-e61361922882",
   "metadata": {
    "tags": []
   },
   "outputs": [],
   "source": [
    "f(1, 2)"
   ]
  },
  {
   "cell_type": "code",
   "execution_count": null,
   "id": "a551b42b-db8c-42d2-8326-6193639d3b0e",
   "metadata": {
    "tags": []
   },
   "outputs": [],
   "source": [
    "f(1, w=4)"
   ]
  },
  {
   "cell_type": "code",
   "execution_count": null,
   "id": "b6ab1890-70de-42cc-aa78-6b7d8a3da91f",
   "metadata": {
    "tags": []
   },
   "outputs": [],
   "source": [
    "p = [3, 4, 5]\n",
    "f(*p)"
   ]
  },
  {
   "cell_type": "code",
   "execution_count": null,
   "id": "3fadb438-99f2-4ba4-8c5d-1486b6d58553",
   "metadata": {
    "tags": []
   },
   "outputs": [],
   "source": [
    "d = {\"u\": 33, \"w\": 55}\n",
    "f(**d)"
   ]
  },
  {
   "cell_type": "code",
   "execution_count": null,
   "id": "6ce7b9e4-fd44-4f11-9e60-ab0bbca8aafd",
   "metadata": {
    "tags": []
   },
   "outputs": [],
   "source": [
    "def f2(u=3.0, v=5.0, *args, **kwargs):\n",
    "    print(f\"u={u}, v={v}, args={args}, kwargs={kwargs}\")"
   ]
  },
  {
   "cell_type": "code",
   "execution_count": null,
   "id": "8ac72f53-320d-460e-a891-a3bf64424415",
   "metadata": {
    "tags": []
   },
   "outputs": [],
   "source": [
    "f2(u=44)"
   ]
  },
  {
   "cell_type": "code",
   "execution_count": null,
   "id": "7ffc0764-c7ed-4188-a57c-832f8a13e17d",
   "metadata": {
    "tags": []
   },
   "outputs": [],
   "source": [
    "f2(4, 5, 6, w=33)"
   ]
  },
  {
   "cell_type": "code",
   "execution_count": null,
   "id": "c54fc6e0-4ab6-4d9a-816a-4c11f0b7042b",
   "metadata": {},
   "outputs": [],
   "source": []
  }
 ],
 "metadata": {
  "kernelspec": {
   "display_name": "Python 3 (ipykernel)",
   "language": "python",
   "name": "python3"
  },
  "language_info": {
   "codemirror_mode": {
    "name": "ipython",
    "version": 3
   },
   "file_extension": ".py",
   "mimetype": "text/x-python",
   "name": "python",
   "nbconvert_exporter": "python",
   "pygments_lexer": "ipython3",
   "version": "3.10.14"
  }
 },
 "nbformat": 4,
 "nbformat_minor": 5
}
