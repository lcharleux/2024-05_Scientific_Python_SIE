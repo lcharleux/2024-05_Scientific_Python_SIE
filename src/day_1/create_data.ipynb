{
 "cells": [
  {
   "cell_type": "markdown",
   "id": "f72ccea7-0f45-4178-b680-e82b59fc73d2",
   "metadata": {},
   "source": [
    "# CREATE DATA"
   ]
  },
  {
   "cell_type": "code",
   "execution_count": null,
   "id": "1043717a-2705-4059-b8ab-d9dcec973310",
   "metadata": {
    "tags": []
   },
   "outputs": [],
   "source": [
    "%matplotlib widget\n",
    "import numpy as np\n",
    "import matplotlib.pyplot as plt"
   ]
  },
  {
   "cell_type": "code",
   "execution_count": null,
   "id": "e7c17e71-7c17-4d96-87bc-205c471d3d6b",
   "metadata": {
    "tags": []
   },
   "outputs": [],
   "source": [
    "x = np.array([1, 2, 3])  #  A NUMPY ARRAY\n",
    "x"
   ]
  },
  {
   "cell_type": "code",
   "execution_count": null,
   "id": "d69eda09-2adc-4076-b85f-dfe29819ddbe",
   "metadata": {
    "tags": []
   },
   "outputs": [],
   "source": [
    "x * 3  # VECTORIAL OPERATIONS"
   ]
  },
  {
   "cell_type": "code",
   "execution_count": null,
   "id": "df2bd3b1-2dd9-4a40-9ded-2b25dd4370ff",
   "metadata": {
    "tags": []
   },
   "outputs": [],
   "source": [
    "x + 2  # SAME"
   ]
  },
  {
   "cell_type": "code",
   "execution_count": null,
   "id": "618f52d5-a2b2-4745-80ff-cfb6eab21f0d",
   "metadata": {
    "tags": []
   },
   "outputs": [],
   "source": [
    "x = np.linspace(0.0, 10.0, 1001)  # EVENLY SPACED VALUES"
   ]
  },
  {
   "cell_type": "code",
   "execution_count": null,
   "id": "af9d620a-a9ff-4371-8827-edd2772acd26",
   "metadata": {
    "tags": []
   },
   "outputs": [],
   "source": [
    "from my_functions import myfunc\n",
    "\n",
    "y = myfunc(x, 1, 0.2, 3)"
   ]
  },
  {
   "cell_type": "markdown",
   "id": "4e7a61bf-62e3-40d4-88d8-708e343ef273",
   "metadata": {},
   "source": [
    "# PLOT DATA\n",
    "\n",
    "We can plot the function:\n",
    "\n",
    "$$\n",
    "y = f(x) = a\\exp(-b x)\\sin(cx)\n",
    "$$"
   ]
  },
  {
   "cell_type": "code",
   "execution_count": null,
   "id": "10811157-a896-40dd-a6c7-9dfb01662241",
   "metadata": {
    "tags": []
   },
   "outputs": [],
   "source": [
    "plt.figure()\n",
    "plt.plot(x, y)\n",
    "plt.xlabel(\"X data\")\n",
    "plt.ylabel(\"Y data\")\n",
    "plt.grid()\n",
    "plt.show()"
   ]
  },
  {
   "cell_type": "code",
   "execution_count": null,
   "id": "857cca71-fad4-4f58-b1d2-9d1c76555509",
   "metadata": {
    "tags": []
   },
   "outputs": [],
   "source": [
    "import pandas as pd"
   ]
  },
  {
   "cell_type": "code",
   "execution_count": null,
   "id": "3fe330bc-2a0f-4b18-9cc8-7cd6fd5a8b99",
   "metadata": {
    "tags": []
   },
   "outputs": [],
   "source": [
    "data = {\"x\": x, \"y\": y}\n",
    "df = pd.DataFrame(data)  # DATAFRAME CREATION\n",
    "df.head()"
   ]
  },
  {
   "cell_type": "code",
   "execution_count": null,
   "id": "cf53100c-7e51-45ff-90f8-23bebe87c143",
   "metadata": {
    "tags": []
   },
   "outputs": [],
   "source": [
    "df.to_csv(\"./data.csv\")  # WRITE DATA AS A CSV FILE"
   ]
  },
  {
   "cell_type": "code",
   "execution_count": null,
   "id": "88b53a89-eced-4b11-aa45-0f270ffd509d",
   "metadata": {},
   "outputs": [],
   "source": []
  },
  {
   "cell_type": "code",
   "execution_count": null,
   "id": "dc92ac52-36da-425d-a825-02faea50c506",
   "metadata": {},
   "outputs": [],
   "source": []
  }
 ],
 "metadata": {
  "kernelspec": {
   "display_name": "Python 3 (ipykernel)",
   "language": "python",
   "name": "python3"
  },
  "language_info": {
   "codemirror_mode": {
    "name": "ipython",
    "version": 3
   },
   "file_extension": ".py",
   "mimetype": "text/x-python",
   "name": "python",
   "nbconvert_exporter": "python",
   "pygments_lexer": "ipython3",
   "version": "3.10.14"
  }
 },
 "nbformat": 4,
 "nbformat_minor": 5
}
