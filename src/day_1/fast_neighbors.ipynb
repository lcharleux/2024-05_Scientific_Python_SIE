{
 "cells": [
  {
   "cell_type": "code",
   "execution_count": null,
   "id": "2bd0b824-e142-4b9b-a277-2f77d063110c",
   "metadata": {
    "tags": []
   },
   "outputs": [],
   "source": [
    "%matplotlib widget\n",
    "# IMPORTS\n",
    "import numpy as np\n",
    "import matplotlib.pyplot as plt\n",
    "import numba"
   ]
  },
  {
   "cell_type": "code",
   "execution_count": null,
   "id": "53c7e6dc-0562-41b0-9d47-c0607818c026",
   "metadata": {
    "tags": []
   },
   "outputs": [],
   "source": [
    "shape = 100, 100\n",
    "cells = np.random.randint(2, size=shape)\n",
    "# cells"
   ]
  },
  {
   "cell_type": "code",
   "execution_count": null,
   "id": "da5d45bb-013a-4543-bd13-577eadbd9008",
   "metadata": {
    "tags": []
   },
   "outputs": [],
   "source": [
    "plt.figure()\n",
    "plt.imshow(cells, cmap=\"gray\")\n",
    "plt.colorbar()\n",
    "plt.show()"
   ]
  },
  {
   "cell_type": "code",
   "execution_count": null,
   "id": "b9942fdd-8b88-4280-8e6f-23e73a32ed82",
   "metadata": {
    "tags": []
   },
   "outputs": [],
   "source": [
    "neigh = np.empty_like(cells)\n",
    "\n",
    "\n",
    "def calc_neighbors(cells, neigh):\n",
    "    Nr, Nc = cells.shape  # Guess the number of rows and cols\n",
    "    for r in range(Nr):\n",
    "        for c in range(Nc):\n",
    "            neigh[r, c] = 0\n",
    "            for r2 in range(max(r - 1, 0), min(r + 2, Nr)):\n",
    "                for c2 in range(max(c - 1, 0), min(c + 2, Nc)):\n",
    "                    if (c2 != c) or (r2 != r):\n",
    "                        neigh[r, c] += cells[r2, c2]\n",
    "\n",
    "\n",
    "calc_neighbors(cells, neigh)\n",
    "neigh.max()"
   ]
  },
  {
   "cell_type": "code",
   "execution_count": null,
   "id": "0d9956fc-92ea-4e7e-94f6-82fd0cf1210e",
   "metadata": {
    "tags": []
   },
   "outputs": [],
   "source": [
    "fat_shape = 300, 300\n",
    "fat_cells = np.random.randint(2, size=fat_shape)\n",
    "fat_neigh = np.empty_like(fat_cells)\n",
    "%timeit calc_neighbors(fat_cells, fat_neigh)"
   ]
  },
  {
   "cell_type": "code",
   "execution_count": null,
   "id": "729cf6e0-9fda-4d95-8778-a778fb63eaa9",
   "metadata": {
    "tags": []
   },
   "outputs": [],
   "source": [
    "fast_calc_neighbors = numba.njit(calc_neighbors)\n",
    "fast_calc_neighbors(fat_cells, fat_neigh)  # COMPILE IT\n",
    "%timeit fast_calc_neighbors(fat_cells, fat_neigh)"
   ]
  },
  {
   "cell_type": "code",
   "execution_count": null,
   "id": "4255299f-bb15-4399-8423-26d3b3466760",
   "metadata": {},
   "outputs": [],
   "source": []
  }
 ],
 "metadata": {
  "kernelspec": {
   "display_name": "Python 3 (ipykernel)",
   "language": "python",
   "name": "python3"
  },
  "language_info": {
   "codemirror_mode": {
    "name": "ipython",
    "version": 3
   },
   "file_extension": ".py",
   "mimetype": "text/x-python",
   "name": "python",
   "nbconvert_exporter": "python",
   "pygments_lexer": "ipython3",
   "version": "3.10.14"
  }
 },
 "nbformat": 4,
 "nbformat_minor": 5
}
